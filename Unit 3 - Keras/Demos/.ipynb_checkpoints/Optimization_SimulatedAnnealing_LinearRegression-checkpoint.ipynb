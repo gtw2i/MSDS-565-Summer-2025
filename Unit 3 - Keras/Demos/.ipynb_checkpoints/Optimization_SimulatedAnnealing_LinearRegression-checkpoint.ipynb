{
 "cells": [
  {
   "cell_type": "code",
   "execution_count": 1,
   "id": "dc3fb429-7b28-45f4-a2b1-1a1a2daa509f",
   "metadata": {},
   "outputs": [],
   "source": [
    "import numpy as np\n",
    "import pandas as pd\n",
    "import matplotlib.pyplot as plt\n",
    "import seaborn as sns\n",
    "\n",
    "pd.set_option('display.max_columns',100)\n",
    "pd.set_option('display.max_rows',100)\n",
    "pd.set_option(\"display.precision\", 4)\n",
    "\n",
    "plt.style.use('dark_background')"
   ]
  },
  {
   "cell_type": "markdown",
   "id": "6874bb7a-55c9-4931-9fef-150ebe63dfa7",
   "metadata": {},
   "source": [
    "# Create data"
   ]
  },
  {
   "cell_type": "code",
   "execution_count": 2,
   "id": "7f0e68be-7a1f-430d-ab9b-0f34f00e1b27",
   "metadata": {},
   "outputs": [
    {
     "data": {
      "image/png": "[encoded data removed]",
      "text/plain": [
       "<Figure size 640x480 with 1 Axes>"
      ]
     },
     "metadata": {},
     "output_type": "display_data"
    }
   ],
   "source": [
    "nPts = 200\n",
    "\n",
    "m1 = 1\n",
    "b1 = 1\n",
    "\n",
    "x = np.linspace(-3, 3, nPts)\n",
    "y = m1*x + b1 + np.random.normal(0, 0.5, nPts)\n",
    "#y = 0.3*x**2 + np.random.normal(0, 0.3, nPts)\n",
    "#y = np.sin(x) + np.random.normal(0, 0.3, nPts)\n",
    "\n",
    "X = x[:,np.newaxis]\n",
    "\n",
    "%matplotlib inline\n",
    "\n",
    "plt.scatter(x, y, label='Data', s=3);\n",
    "plt.xlim(-4,4)\n",
    "plt.ylim(-4,4)\n",
    "plt.gca().set_aspect('equal')"
   ]
  },
  {
   "cell_type": "markdown",
   "id": "08b654bd-ab9d-4596-a4ae-022e7053a885",
   "metadata": {},
   "source": [
    "# Plot error function"
   ]
  },
  {
   "cell_type": "code",
   "execution_count": 16,
   "id": "9b502552-6df7-4b43-9083-8cc67f6e7bd2",
   "metadata": {},
   "outputs": [
    {
     "data": {
      "text/plain": [
       "<matplotlib.colorbar.Colorbar at 0x2a71291df70>"
      ]
     },
     "execution_count": 16,
     "metadata": {},
     "output_type": "execute_result"
    }
   ],
   "source": [
    "from mpl_toolkits.mplot3d import Axes3D\n",
    "%matplotlib qt\n",
    "\n",
    "# calculate loss/error for 3d plot vs sploe and intercept\n",
    "M = np.linspace(-1,3,100)\n",
    "B = np.linspace(-1,3,100)\n",
    "\n",
    "err = np.zeros((100,100))\n",
    "\n",
    "for i,m in enumerate(M):\n",
    "    for j,b in enumerate(B):\n",
    "        y_pred = b*x + m\n",
    "        err[i,j] = np.sum( (y-y_pred)**2 )\n",
    "    # end\n",
    "# end\n",
    "\n",
    "M, B = np.meshgrid(M, B)\n",
    "\n",
    "# Plot the surface\n",
    "fig = plt.figure()\n",
    "ax = fig.add_subplot(111, projection='3d')\n",
    "\n",
    "surf = ax.plot_surface(M, B, err, cmap='jet')\n",
    "ax.set_zlim(0,err.max())\n",
    "\n",
    "ax.set_xlabel('M')\n",
    "ax.set_ylabel('B')\n",
    "ax.set_zlabel('Error')\n",
    "\n",
    "fig.colorbar(surf, shrink=0.5, aspect=5)"
   ]
  },
  {
   "cell_type": "markdown",
   "id": "cb109169-2602-4ed4-ba95-7504e4860f95",
   "metadata": {},
   "source": [
    "# Optimize w/ simulated annealing"
   ]
  },
  {
   "cell_type": "code",
   "execution_count": 17,
   "id": "ec705370-9e0a-426c-81d1-652ae1301b2d",
   "metadata": {},
   "outputs": [],
   "source": [
    "def predict(m,b,x):\n",
    "    return m*x + b\n",
    "# end\n",
    "\n",
    "def loss(y, y_pred):\n",
    "    return np.sum( (y-y_pred)**2 )\n",
    "# end\n",
    "\n",
    "def Temp( t, T0, tau ):\n",
    "    return T0*np.exp( -(1.0*t)/tau )\n",
    "# end\n",
    "\n",
    "def SA( start, nStep, pWidth, tau, y ):\n",
    "\t\n",
    "    y_pred = predict(start[0], start[1], x)\n",
    "    \n",
    "    points = [ start ]\n",
    "    error   = [ loss(y,y_pred) ]\n",
    "    \n",
    "    r = np.random.uniform(low=0, high=1, size=nStep)\n",
    "    for step in range(nStep):\n",
    "        #print(\"step: \" + str(step+1) + \"/\" + str(nStep))\n",
    "        \n",
    "        curr = points[-1]\n",
    "        currF = error[-1]\n",
    "\n",
    "        cand = np.random.normal(curr,pWidth,size=2)\n",
    "        y_pred = predict(cand[0], cand[1], x)\n",
    "        candF = loss( y, y_pred )\n",
    "        \n",
    "        if step == 0 :\n",
    "            T0 = abs(candF - currF)\n",
    "        # end\n",
    "        T = Temp( step, T0, tau )\n",
    "        \n",
    "        accProb = min( 1.0, np.exp( -(candF-currF)/T ) )\n",
    "        \n",
    "        if( r[step] <= accProb ):\n",
    "            points.append(cand)\n",
    "            error.append(candF)\n",
    "        else:\n",
    "            points.append(curr)\n",
    "            error.append(currF)\n",
    "        # end\n",
    "\t# end\n",
    "    points = np.array(points)\n",
    "    error  = np.array(error)\n",
    "    \n",
    "    return points, error\n",
    "\n",
    "# end"
   ]
  },
  {
   "cell_type": "code",
   "execution_count": 23,
   "id": "bd1a79e3-b109-441e-bca2-297f6625dc75",
   "metadata": {},
   "outputs": [
    {
     "name": "stdout",
     "output_type": "stream",
     "text": [
      "Minimum x: [1.0172408 1.0596862]\n",
      "Minimum f: 50.4036303791832\n"
     ]
    }
   ],
   "source": [
    "nStep  = 2000\n",
    "tau    = 400\n",
    "pWidth = 0.1\n",
    "start  = [2.5,2.5]\n",
    "\n",
    "points, error = SA( start, nStep, pWidth, tau, y )\n",
    "\n",
    "# get results\n",
    "arg_min = np.argmin(error)\n",
    "x_min = points[arg_min]\n",
    "f_min = np.min(error)\n",
    "print(f\"Minimum x: {x_min}\")\n",
    "print(f\"Minimum f: {f_min}\")"
   ]
  },
  {
   "cell_type": "markdown",
   "id": "3f66fb11-1e08-4948-b241-3212b65cdc63",
   "metadata": {},
   "source": [
    "# Plot annealing history"
   ]
  },
  {
   "cell_type": "code",
   "execution_count": 24,
   "id": "325bda4d-f7b8-43d6-bed5-4ebb8c742bed",
   "metadata": {},
   "outputs": [
    {
     "data": {
      "text/plain": [
       "[<mpl_toolkits.mplot3d.art3d.Line3D at 0x2a712743c40>]"
      ]
     },
     "execution_count": 24,
     "metadata": {},
     "output_type": "execute_result"
    }
   ],
   "source": [
    "%matplotlib qt\n",
    "\n",
    "fig = plt.figure()\n",
    "ax = fig.add_subplot(111, projection='3d')\n",
    "\n",
    "# Plot the surface\n",
    "surf = ax.plot_surface(M, B, err, cmap='viridis')\n",
    "ax.set_zlim(0,err.max())\n",
    "\n",
    "# Add labels and title\n",
    "ax.set_xlabel('M')\n",
    "ax.set_ylabel('B')\n",
    "ax.set_zlabel('Error')\n",
    "ax.set_title('3D Surface Plot')\n",
    "\n",
    "# Add a color bar which maps values to colors\n",
    "fig.colorbar(surf, shrink=0.5, aspect=5)\n",
    "\n",
    "ax.plot(points[:,0],points[:,1], 'r')"
   ]
  },
  {
   "cell_type": "code",
   "execution_count": null,
   "id": "3750cdb8-742c-44e3-bf91-5710232f6f67",
   "metadata": {},
   "outputs": [],
   "source": []
  }
 ],
 "metadata": {
  "kernelspec": {
   "display_name": "CSCI 4900",
   "language": "python",
   "name": "csci4900"
  },
  "language_info": {
   "codemirror_mode": {
    "name": "ipython",
    "version": 3
   },
   "file_extension": ".py",
   "mimetype": "text/x-python",
   "name": "python",
   "nbconvert_exporter": "python",
   "pygments_lexer": "ipython3",
   "version": "3.8.18"
  }
 },
 "nbformat": 4,
 "nbformat_minor": 5
}
