{
 "cells": [
  {
   "cell_type": "code",
   "execution_count": 15,
   "id": "04e7e60c-0335-4e0c-ad25-ad35b9180823",
   "metadata": {},
   "outputs": [],
   "source": [
    "import numpy as np\n",
    "import pandas as pd\n",
    "import matplotlib.pyplot as plt\n",
    "import seaborn as sns\n",
    "\n",
    "pd.set_option('display.max_columns',100)\n",
    "pd.set_option('display.max_rows',100)\n",
    "pd.set_option(\"display.precision\", 4)\n",
    "\n",
    "plt.style.use('dark_background')"
   ]
  },
  {
   "cell_type": "markdown",
   "id": "a5a01dab-0c94-4117-aed1-74db0c57ebfa",
   "metadata": {},
   "source": [
    "# Create data"
   ]
  },
  {
   "cell_type": "code",
   "execution_count": 121,
   "id": "587d096e-8cff-4653-9f8c-58282c0f7374",
   "metadata": {},
   "outputs": [
    {
     "data": {
      "image/png": "[encoded data removed]",
      "text/plain": [
       "<Figure size 640x480 with 1 Axes>"
      ]
     },
     "metadata": {},
     "output_type": "display_data"
    }
   ],
   "source": [
    "nPts = 1000\n",
    "\n",
    "x = np.linspace(-2, 2, nPts)\n",
    "X = x[:, np.newaxis]\n",
    "\n",
    "# linear data\n",
    "#m = 1\n",
    "#b = 0\n",
    "#y = m*x + b + np.random.normal(0, 0.1, nPts)\n",
    "\n",
    "# sin data\n",
    "y = np.sin(2*np.pi*x/2) + np.random.normal(0, 0.1, nPts)\n",
    "\n",
    "# smoothe random data\n",
    "#window = 30\n",
    "#y = pd.Series(np.random.randn(nPts+window-1)).cumsum().rolling(window=window).mean().dropna()\n",
    "#y = y / y.abs().max() * 2\n",
    "#y = y.values\n",
    "\n",
    "plt.scatter(x, y, c='b', s=5)\n",
    "plt.gca().set_aspect('equal')\n",
    "plt.show()"
   ]
  },
  {
   "cell_type": "markdown",
   "id": "4e2e6448-7bd1-4797-a3ec-01061c1faec1",
   "metadata": {},
   "source": [
    "# Modeling"
   ]
  },
  {
   "cell_type": "markdown",
   "id": "cfbe3b21-f856-49ad-a821-fe781023f698",
   "metadata": {},
   "source": [
    "## Preprocessing"
   ]
  },
  {
   "cell_type": "code",
   "execution_count": 122,
   "id": "7f63c0e4-b0ea-41c7-8e11-4707d5738d20",
   "metadata": {},
   "outputs": [],
   "source": [
    "\"\"\"\n",
    "from sklearn.preprocessing import MinMaxScaler\n",
    "scaler = MinMaxScaler()\n",
    "y = scaler.fit_transform(y[:, np.newaxis])[:,0]\n",
    "\"\"\";"
   ]
  },
  {
   "cell_type": "code",
   "execution_count": 123,
   "id": "a25a5954-e3d7-4d5f-be4e-5b4fc0888488",
   "metadata": {},
   "outputs": [],
   "source": [
    "from sklearn.model_selection import train_test_split\n",
    "\n",
    "X_train, X_test, y_train, y_test = train_test_split(X, y,\n",
    "                                                    test_size=0.2)"
   ]
  },
  {
   "attachments": {},
   "cell_type": "markdown",
   "id": "4e6db5bc-a34f-48bb-a216-4d6b57eef26e",
   "metadata": {},
   "source": [
    "## Create models\n",
    "\n",
    "model1 has a single layer. model2 has several layers."
   ]
  },
  {
   "cell_type": "code",
   "execution_count": 57,
   "id": "09061690-6761-4a49-b560-d2ab407eb34a",
   "metadata": {},
   "outputs": [
    {
     "data": {
      "text/plain": [
       "(1000, 1)"
      ]
     },
     "execution_count": 57,
     "metadata": {},
     "output_type": "execute_result"
    }
   ],
   "source": [
    "X.shape"
   ]
  },
  {
   "cell_type": "code",
   "execution_count": 58,
   "id": "6b1fe48a-81e9-4ce7-b8f6-b905c261aab6",
   "metadata": {},
   "outputs": [],
   "source": [
    "from tensorflow.keras.models import Sequential\n",
    "from tensorflow.keras.layers import Dense"
   ]
  },
  {
   "cell_type": "code",
   "execution_count": 67,
   "id": "83284673-639f-4a81-b58a-e0ef328c5ad1",
   "metadata": {},
   "outputs": [
    {
     "data": {
      "text/html": [
       "<pre style=\"white-space:pre;overflow-x:auto;line-height:normal;font-family:Menlo,'DejaVu Sans Mono',consolas,'Courier New',monospace\"><span style=\"font-weight: bold\">Model: \"sequential_11\"</span>\n",
       "</pre>\n"
      ],
      "text/plain": [
       "\u001b[1mModel: \"sequential_11\"\u001b[0m\n"
      ]
     },
     "metadata": {},
     "output_type": "display_data"
    },
    {
     "data": {
      "text/html": [
       "<pre style=\"white-space:pre;overflow-x:auto;line-height:normal;font-family:Menlo,'DejaVu Sans Mono',consolas,'Courier New',monospace\">┏━━━━━━━━━━━━━━━━━━━━━━━━━━━━━━━━━━━━━━┳━━━━━━━━━━━━━━━━━━━━━━━━━━━━━┳━━━━━━━━━━━━━━━━━┓\n",
       "┃<span style=\"font-weight: bold\"> Layer (type)                         </span>┃<span style=\"font-weight: bold\"> Output Shape                </span>┃<span style=\"font-weight: bold\">         Param # </span>┃\n",
       "┡━━━━━━━━━━━━━━━━━━━━━━━━━━━━━━━━━━━━━━╇━━━━━━━━━━━━━━━━━━━━━━━━━━━━━╇━━━━━━━━━━━━━━━━━┩\n",
       "│ dense_17 (<span style=\"color: #0087ff; text-decoration-color: #0087ff\">Dense</span>)                     │ (<span style=\"color: #00d7ff; text-decoration-color: #00d7ff\">None</span>, <span style=\"color: #00af00; text-decoration-color: #00af00\">5</span>)                   │              <span style=\"color: #00af00; text-decoration-color: #00af00\">10</span> │\n",
       "├──────────────────────────────────────┼─────────────────────────────┼─────────────────┤\n",
       "│ dense_18 (<span style=\"color: #0087ff; text-decoration-color: #0087ff\">Dense</span>)                     │ (<span style=\"color: #00d7ff; text-decoration-color: #00d7ff\">None</span>, <span style=\"color: #00af00; text-decoration-color: #00af00\">1</span>)                   │               <span style=\"color: #00af00; text-decoration-color: #00af00\">6</span> │\n",
       "└──────────────────────────────────────┴─────────────────────────────┴─────────────────┘\n",
       "</pre>\n"
      ],
      "text/plain": [
       "┏━━━━━━━━━━━━━━━━━━━━━━━━━━━━━━━━━━━━━━┳━━━━━━━━━━━━━━━━━━━━━━━━━━━━━┳━━━━━━━━━━━━━━━━━┓\n",
       "┃\u001b[1m \u001b[0m\u001b[1mLayer (type)                        \u001b[0m\u001b[1m \u001b[0m┃\u001b[1m \u001b[0m\u001b[1mOutput Shape               \u001b[0m\u001b[1m \u001b[0m┃\u001b[1m \u001b[0m\u001b[1m        Param #\u001b[0m\u001b[1m \u001b[0m┃\n",
       "┡━━━━━━━━━━━━━━━━━━━━━━━━━━━━━━━━━━━━━━╇━━━━━━━━━━━━━━━━━━━━━━━━━━━━━╇━━━━━━━━━━━━━━━━━┩\n",
       "│ dense_17 (\u001b[38;5;33mDense\u001b[0m)                     │ (\u001b[38;5;45mNone\u001b[0m, \u001b[38;5;34m5\u001b[0m)                   │              \u001b[38;5;34m10\u001b[0m │\n",
       "├──────────────────────────────────────┼─────────────────────────────┼─────────────────┤\n",
       "│ dense_18 (\u001b[38;5;33mDense\u001b[0m)                     │ (\u001b[38;5;45mNone\u001b[0m, \u001b[38;5;34m1\u001b[0m)                   │               \u001b[38;5;34m6\u001b[0m │\n",
       "└──────────────────────────────────────┴─────────────────────────────┴─────────────────┘\n"
      ]
     },
     "metadata": {},
     "output_type": "display_data"
    },
    {
     "data": {
      "text/html": [
       "<pre style=\"white-space:pre;overflow-x:auto;line-height:normal;font-family:Menlo,'DejaVu Sans Mono',consolas,'Courier New',monospace\"><span style=\"font-weight: bold\"> Total params: </span><span style=\"color: #00af00; text-decoration-color: #00af00\">16</span> (64.00 B)\n",
       "</pre>\n"
      ],
      "text/plain": [
       "\u001b[1m Total params: \u001b[0m\u001b[38;5;34m16\u001b[0m (64.00 B)\n"
      ]
     },
     "metadata": {},
     "output_type": "display_data"
    },
    {
     "data": {
      "text/html": [
       "<pre style=\"white-space:pre;overflow-x:auto;line-height:normal;font-family:Menlo,'DejaVu Sans Mono',consolas,'Courier New',monospace\"><span style=\"font-weight: bold\"> Trainable params: </span><span style=\"color: #00af00; text-decoration-color: #00af00\">16</span> (64.00 B)\n",
       "</pre>\n"
      ],
      "text/plain": [
       "\u001b[1m Trainable params: \u001b[0m\u001b[38;5;34m16\u001b[0m (64.00 B)\n"
      ]
     },
     "metadata": {},
     "output_type": "display_data"
    },
    {
     "data": {
      "text/html": [
       "<pre style=\"white-space:pre;overflow-x:auto;line-height:normal;font-family:Menlo,'DejaVu Sans Mono',consolas,'Courier New',monospace\"><span style=\"font-weight: bold\"> Non-trainable params: </span><span style=\"color: #00af00; text-decoration-color: #00af00\">0</span> (0.00 B)\n",
       "</pre>\n"
      ],
      "text/plain": [
       "\u001b[1m Non-trainable params: \u001b[0m\u001b[38;5;34m0\u001b[0m (0.00 B)\n"
      ]
     },
     "metadata": {},
     "output_type": "display_data"
    }
   ],
   "source": [
    "# Model 1\n",
    "model = Sequential([\n",
    "    Dense(1, activation='relu', input_dim=X.shape[1]),\n",
    "])\n",
    "\n",
    "model.compile(\n",
    "    optimizer='adam',\n",
    "    loss='mse'\n",
    ")\n",
    "\n",
    "model.summary()"
   ]
  },
  {
   "cell_type": "code",
   "execution_count": 141,
   "id": "ff867648-8dcf-4018-8525-eb7ff732041d",
   "metadata": {},
   "outputs": [
    {
     "data": {
      "text/html": [
       "<pre style=\"white-space:pre;overflow-x:auto;line-height:normal;font-family:Menlo,'DejaVu Sans Mono',consolas,'Courier New',monospace\"><span style=\"font-weight: bold\">Model: \"sequential_22\"</span>\n",
       "</pre>\n"
      ],
      "text/plain": [
       "\u001b[1mModel: \"sequential_22\"\u001b[0m\n"
      ]
     },
     "metadata": {},
     "output_type": "display_data"
    },
    {
     "data": {
      "text/html": [
       "<pre style=\"white-space:pre;overflow-x:auto;line-height:normal;font-family:Menlo,'DejaVu Sans Mono',consolas,'Courier New',monospace\">┏━━━━━━━━━━━━━━━━━━━━━━━━━━━━━━━━━━━━━━┳━━━━━━━━━━━━━━━━━━━━━━━━━━━━━┳━━━━━━━━━━━━━━━━━┓\n",
       "┃<span style=\"font-weight: bold\"> Layer (type)                         </span>┃<span style=\"font-weight: bold\"> Output Shape                </span>┃<span style=\"font-weight: bold\">         Param # </span>┃\n",
       "┡━━━━━━━━━━━━━━━━━━━━━━━━━━━━━━━━━━━━━━╇━━━━━━━━━━━━━━━━━━━━━━━━━━━━━╇━━━━━━━━━━━━━━━━━┩\n",
       "│ dense_59 (<span style=\"color: #0087ff; text-decoration-color: #0087ff\">Dense</span>)                     │ (<span style=\"color: #00d7ff; text-decoration-color: #00d7ff\">None</span>, <span style=\"color: #00af00; text-decoration-color: #00af00\">30</span>)                  │              <span style=\"color: #00af00; text-decoration-color: #00af00\">60</span> │\n",
       "├──────────────────────────────────────┼─────────────────────────────┼─────────────────┤\n",
       "│ dense_60 (<span style=\"color: #0087ff; text-decoration-color: #0087ff\">Dense</span>)                     │ (<span style=\"color: #00d7ff; text-decoration-color: #00d7ff\">None</span>, <span style=\"color: #00af00; text-decoration-color: #00af00\">20</span>)                  │             <span style=\"color: #00af00; text-decoration-color: #00af00\">620</span> │\n",
       "├──────────────────────────────────────┼─────────────────────────────┼─────────────────┤\n",
       "│ dense_61 (<span style=\"color: #0087ff; text-decoration-color: #0087ff\">Dense</span>)                     │ (<span style=\"color: #00d7ff; text-decoration-color: #00d7ff\">None</span>, <span style=\"color: #00af00; text-decoration-color: #00af00\">10</span>)                  │             <span style=\"color: #00af00; text-decoration-color: #00af00\">210</span> │\n",
       "├──────────────────────────────────────┼─────────────────────────────┼─────────────────┤\n",
       "│ dense_62 (<span style=\"color: #0087ff; text-decoration-color: #0087ff\">Dense</span>)                     │ (<span style=\"color: #00d7ff; text-decoration-color: #00d7ff\">None</span>, <span style=\"color: #00af00; text-decoration-color: #00af00\">1</span>)                   │              <span style=\"color: #00af00; text-decoration-color: #00af00\">11</span> │\n",
       "└──────────────────────────────────────┴─────────────────────────────┴─────────────────┘\n",
       "</pre>\n"
      ],
      "text/plain": [
       "┏━━━━━━━━━━━━━━━━━━━━━━━━━━━━━━━━━━━━━━┳━━━━━━━━━━━━━━━━━━━━━━━━━━━━━┳━━━━━━━━━━━━━━━━━┓\n",
       "┃\u001b[1m \u001b[0m\u001b[1mLayer (type)                        \u001b[0m\u001b[1m \u001b[0m┃\u001b[1m \u001b[0m\u001b[1mOutput Shape               \u001b[0m\u001b[1m \u001b[0m┃\u001b[1m \u001b[0m\u001b[1m        Param #\u001b[0m\u001b[1m \u001b[0m┃\n",
       "┡━━━━━━━━━━━━━━━━━━━━━━━━━━━━━━━━━━━━━━╇━━━━━━━━━━━━━━━━━━━━━━━━━━━━━╇━━━━━━━━━━━━━━━━━┩\n",
       "│ dense_59 (\u001b[38;5;33mDense\u001b[0m)                     │ (\u001b[38;5;45mNone\u001b[0m, \u001b[38;5;34m30\u001b[0m)                  │              \u001b[38;5;34m60\u001b[0m │\n",
       "├──────────────────────────────────────┼─────────────────────────────┼─────────────────┤\n",
       "│ dense_60 (\u001b[38;5;33mDense\u001b[0m)                     │ (\u001b[38;5;45mNone\u001b[0m, \u001b[38;5;34m20\u001b[0m)                  │             \u001b[38;5;34m620\u001b[0m │\n",
       "├──────────────────────────────────────┼─────────────────────────────┼─────────────────┤\n",
       "│ dense_61 (\u001b[38;5;33mDense\u001b[0m)                     │ (\u001b[38;5;45mNone\u001b[0m, \u001b[38;5;34m10\u001b[0m)                  │             \u001b[38;5;34m210\u001b[0m │\n",
       "├──────────────────────────────────────┼─────────────────────────────┼─────────────────┤\n",
       "│ dense_62 (\u001b[38;5;33mDense\u001b[0m)                     │ (\u001b[38;5;45mNone\u001b[0m, \u001b[38;5;34m1\u001b[0m)                   │              \u001b[38;5;34m11\u001b[0m │\n",
       "└──────────────────────────────────────┴─────────────────────────────┴─────────────────┘\n"
      ]
     },
     "metadata": {},
     "output_type": "display_data"
    },
    {
     "data": {
      "text/html": [
       "<pre style=\"white-space:pre;overflow-x:auto;line-height:normal;font-family:Menlo,'DejaVu Sans Mono',consolas,'Courier New',monospace\"><span style=\"font-weight: bold\"> Total params: </span><span style=\"color: #00af00; text-decoration-color: #00af00\">901</span> (3.52 KB)\n",
       "</pre>\n"
      ],
      "text/plain": [
       "\u001b[1m Total params: \u001b[0m\u001b[38;5;34m901\u001b[0m (3.52 KB)\n"
      ]
     },
     "metadata": {},
     "output_type": "display_data"
    },
    {
     "data": {
      "text/html": [
       "<pre style=\"white-space:pre;overflow-x:auto;line-height:normal;font-family:Menlo,'DejaVu Sans Mono',consolas,'Courier New',monospace\"><span style=\"font-weight: bold\"> Trainable params: </span><span style=\"color: #00af00; text-decoration-color: #00af00\">901</span> (3.52 KB)\n",
       "</pre>\n"
      ],
      "text/plain": [
       "\u001b[1m Trainable params: \u001b[0m\u001b[38;5;34m901\u001b[0m (3.52 KB)\n"
      ]
     },
     "metadata": {},
     "output_type": "display_data"
    },
    {
     "data": {
      "text/html": [
       "<pre style=\"white-space:pre;overflow-x:auto;line-height:normal;font-family:Menlo,'DejaVu Sans Mono',consolas,'Courier New',monospace\"><span style=\"font-weight: bold\"> Non-trainable params: </span><span style=\"color: #00af00; text-decoration-color: #00af00\">0</span> (0.00 B)\n",
       "</pre>\n"
      ],
      "text/plain": [
       "\u001b[1m Non-trainable params: \u001b[0m\u001b[38;5;34m0\u001b[0m (0.00 B)\n"
      ]
     },
     "metadata": {},
     "output_type": "display_data"
    }
   ],
   "source": [
    "from tensorflow.keras.optimizers import Adam\n",
    "\n",
    "# Model 2\n",
    "model = Sequential([\n",
    "    Dense(30, activation='relu', input_dim=X.shape[1]),\n",
    "    Dense(20, activation='relu'),\n",
    "    Dense(10, activation='relu'),\n",
    "    Dense(1, activation='linear')\n",
    "])\n",
    "\n",
    "model.compile(optimizer=Adam(learning_rate=0.01),\n",
    "              loss='mean_squared_error')\n",
    "\n",
    "model.summary()"
   ]
  },
  {
   "cell_type": "markdown",
   "id": "b592446e-23ae-44c7-bb45-9048d2f82a81",
   "metadata": {},
   "source": [
    "## Train model"
   ]
  },
  {
   "cell_type": "code",
   "execution_count": 142,
   "id": "d3a38a85-29c6-4233-9eef-cee61323ed81",
   "metadata": {},
   "outputs": [
    {
     "name": "stdout",
     "output_type": "stream",
     "text": [
      "Epoch 1/100\n",
      "\u001b[1m2/2\u001b[0m \u001b[32m━━━━━━━━━━━━━━━━━━━━\u001b[0m\u001b[37m\u001b[0m \u001b[1m1s\u001b[0m 133ms/step - loss: 0.4611 - val_loss: 0.4025\n",
      "Epoch 2/100\n",
      "\u001b[1m2/2\u001b[0m \u001b[32m━━━━━━━━━━━━━━━━━━━━\u001b[0m\u001b[37m\u001b[0m \u001b[1m0s\u001b[0m 43ms/step - loss: 0.4153 - val_loss: 0.3684\n",
      "Epoch 3/100\n",
      "\u001b[1m2/2\u001b[0m \u001b[32m━━━━━━━━━━━━━━━━━━━━\u001b[0m\u001b[37m\u001b[0m \u001b[1m0s\u001b[0m 44ms/step - loss: 0.3848 - val_loss: 0.3472\n",
      "Epoch 4/100\n",
      "\u001b[1m2/2\u001b[0m \u001b[32m━━━━━━━━━━━━━━━━━━━━\u001b[0m\u001b[37m\u001b[0m \u001b[1m0s\u001b[0m 44ms/step - loss: 0.3626 - val_loss: 0.3219\n",
      "Epoch 5/100\n",
      "\u001b[1m2/2\u001b[0m \u001b[32m━━━━━━━━━━━━━━━━━━━━\u001b[0m\u001b[37m\u001b[0m \u001b[1m0s\u001b[0m 42ms/step - loss: 0.3386 - val_loss: 0.3059\n",
      "Epoch 6/100\n",
      "\u001b[1m2/2\u001b[0m \u001b[32m━━━━━━━━━━━━━━━━━━━━\u001b[0m\u001b[37m\u001b[0m \u001b[1m0s\u001b[0m 43ms/step - loss: 0.3213 - val_loss: 0.2889\n",
      "Epoch 7/100\n",
      "\u001b[1m2/2\u001b[0m \u001b[32m━━━━━━━━━━━━━━━━━━━━\u001b[0m\u001b[37m\u001b[0m \u001b[1m0s\u001b[0m 44ms/step - loss: 0.2980 - val_loss: 0.2731\n",
      "Epoch 8/100\n",
      "\u001b[1m2/2\u001b[0m \u001b[32m━━━━━━━━━━━━━━━━━━━━\u001b[0m\u001b[37m\u001b[0m \u001b[1m0s\u001b[0m 44ms/step - loss: 0.2800 - val_loss: 0.2477\n",
      "Epoch 9/100\n",
      "\u001b[1m2/2\u001b[0m \u001b[32m━━━━━━━━━━━━━━━━━━━━\u001b[0m\u001b[37m\u001b[0m \u001b[1m0s\u001b[0m 43ms/step - loss: 0.2507 - val_loss: 0.2322\n",
      "Epoch 10/100\n",
      "\u001b[1m2/2\u001b[0m \u001b[32m━━━━━━━━━━━━━━━━━━━━\u001b[0m\u001b[37m\u001b[0m \u001b[1m0s\u001b[0m 43ms/step - loss: 0.2369 - val_loss: 0.2076\n",
      "Epoch 11/100\n",
      "\u001b[1m2/2\u001b[0m \u001b[32m━━━━━━━━━━━━━━━━━━━━\u001b[0m\u001b[37m\u001b[0m \u001b[1m0s\u001b[0m 42ms/step - loss: 0.2079 - val_loss: 0.1869\n",
      "Epoch 12/100\n",
      "\u001b[1m2/2\u001b[0m \u001b[32m━━━━━━━━━━━━━━━━━━━━\u001b[0m\u001b[37m\u001b[0m \u001b[1m0s\u001b[0m 44ms/step - loss: 0.1813 - val_loss: 0.1613\n",
      "Epoch 13/100\n",
      "\u001b[1m2/2\u001b[0m \u001b[32m━━━━━━━━━━━━━━━━━━━━\u001b[0m\u001b[37m\u001b[0m \u001b[1m0s\u001b[0m 43ms/step - loss: 0.1591 - val_loss: 0.1520\n",
      "Epoch 14/100\n",
      "\u001b[1m2/2\u001b[0m \u001b[32m━━━━━━━━━━━━━━━━━━━━\u001b[0m\u001b[37m\u001b[0m \u001b[1m0s\u001b[0m 44ms/step - loss: 0.1439 - val_loss: 0.1465\n",
      "Epoch 15/100\n",
      "\u001b[1m2/2\u001b[0m \u001b[32m━━━━━━━━━━━━━━━━━━━━\u001b[0m\u001b[37m\u001b[0m \u001b[1m0s\u001b[0m 43ms/step - loss: 0.1381 - val_loss: 0.1402\n",
      "Epoch 16/100\n",
      "\u001b[1m2/2\u001b[0m \u001b[32m━━━━━━━━━━━━━━━━━━━━\u001b[0m\u001b[37m\u001b[0m \u001b[1m0s\u001b[0m 44ms/step - loss: 0.1408 - val_loss: 0.1432\n",
      "Epoch 17/100\n",
      "\u001b[1m2/2\u001b[0m \u001b[32m━━━━━━━━━━━━━━━━━━━━\u001b[0m\u001b[37m\u001b[0m \u001b[1m0s\u001b[0m 43ms/step - loss: 0.1312 - val_loss: 0.1429\n",
      "Epoch 18/100\n",
      "\u001b[1m2/2\u001b[0m \u001b[32m━━━━━━━━━━━━━━━━━━━━\u001b[0m\u001b[37m\u001b[0m \u001b[1m0s\u001b[0m 43ms/step - loss: 0.1346 - val_loss: 0.1318\n",
      "Epoch 19/100\n",
      "\u001b[1m2/2\u001b[0m \u001b[32m━━━━━━━━━━━━━━━━━━━━\u001b[0m\u001b[37m\u001b[0m \u001b[1m0s\u001b[0m 42ms/step - loss: 0.1259 - val_loss: 0.1276\n",
      "Epoch 20/100\n",
      "\u001b[1m2/2\u001b[0m \u001b[32m━━━━━━━━━━━━━━━━━━━━\u001b[0m\u001b[37m\u001b[0m \u001b[1m0s\u001b[0m 44ms/step - loss: 0.1198 - val_loss: 0.1229\n",
      "Epoch 21/100\n",
      "\u001b[1m2/2\u001b[0m \u001b[32m━━━━━━━━━━━━━━━━━━━━\u001b[0m\u001b[37m\u001b[0m \u001b[1m0s\u001b[0m 42ms/step - loss: 0.1200 - val_loss: 0.1228\n",
      "Epoch 22/100\n",
      "\u001b[1m2/2\u001b[0m \u001b[32m━━━━━━━━━━━━━━━━━━━━\u001b[0m\u001b[37m\u001b[0m \u001b[1m0s\u001b[0m 57ms/step - loss: 0.1171 - val_loss: 0.1220\n",
      "Epoch 23/100\n",
      "\u001b[1m2/2\u001b[0m \u001b[32m━━━━━━━━━━━━━━━━━━━━\u001b[0m\u001b[37m\u001b[0m \u001b[1m0s\u001b[0m 44ms/step - loss: 0.1202 - val_loss: 0.1144\n",
      "Epoch 24/100\n",
      "\u001b[1m2/2\u001b[0m \u001b[32m━━━━━━━━━━━━━━━━━━━━\u001b[0m\u001b[37m\u001b[0m \u001b[1m0s\u001b[0m 44ms/step - loss: 0.1098 - val_loss: 0.1106\n",
      "Epoch 25/100\n",
      "\u001b[1m2/2\u001b[0m \u001b[32m━━━━━━━━━━━━━━━━━━━━\u001b[0m\u001b[37m\u001b[0m \u001b[1m0s\u001b[0m 44ms/step - loss: 0.1053 - val_loss: 0.1081\n",
      "Epoch 26/100\n",
      "\u001b[1m2/2\u001b[0m \u001b[32m━━━━━━━━━━━━━━━━━━━━\u001b[0m\u001b[37m\u001b[0m \u001b[1m0s\u001b[0m 43ms/step - loss: 0.1036 - val_loss: 0.1048\n",
      "Epoch 27/100\n",
      "\u001b[1m2/2\u001b[0m \u001b[32m━━━━━━━━━━━━━━━━━━━━\u001b[0m\u001b[37m\u001b[0m \u001b[1m0s\u001b[0m 44ms/step - loss: 0.1001 - val_loss: 0.1087\n",
      "Epoch 28/100\n",
      "\u001b[1m2/2\u001b[0m \u001b[32m━━━━━━━━━━━━━━━━━━━━\u001b[0m\u001b[37m\u001b[0m \u001b[1m0s\u001b[0m 44ms/step - loss: 0.0987 - val_loss: 0.1016\n",
      "Epoch 29/100\n",
      "\u001b[1m2/2\u001b[0m \u001b[32m━━━━━━━━━━━━━━━━━━━━\u001b[0m\u001b[37m\u001b[0m \u001b[1m0s\u001b[0m 43ms/step - loss: 0.0958 - val_loss: 0.1039\n",
      "Epoch 30/100\n",
      "\u001b[1m2/2\u001b[0m \u001b[32m━━━━━━━━━━━━━━━━━━━━\u001b[0m\u001b[37m\u001b[0m \u001b[1m0s\u001b[0m 43ms/step - loss: 0.0948 - val_loss: 0.0961\n",
      "Epoch 31/100\n",
      "\u001b[1m2/2\u001b[0m \u001b[32m━━━━━━━━━━━━━━━━━━━━\u001b[0m\u001b[37m\u001b[0m \u001b[1m0s\u001b[0m 44ms/step - loss: 0.0905 - val_loss: 0.0948\n",
      "Epoch 32/100\n",
      "\u001b[1m2/2\u001b[0m \u001b[32m━━━━━━━━━━━━━━━━━━━━\u001b[0m\u001b[37m\u001b[0m \u001b[1m0s\u001b[0m 43ms/step - loss: 0.0890 - val_loss: 0.0962\n",
      "Epoch 33/100\n",
      "\u001b[1m2/2\u001b[0m \u001b[32m━━━━━━━━━━━━━━━━━━━━\u001b[0m\u001b[37m\u001b[0m \u001b[1m0s\u001b[0m 44ms/step - loss: 0.0893 - val_loss: 0.0908\n",
      "Epoch 34/100\n",
      "\u001b[1m2/2\u001b[0m \u001b[32m━━━━━━━━━━━━━━━━━━━━\u001b[0m\u001b[37m\u001b[0m \u001b[1m0s\u001b[0m 44ms/step - loss: 0.0868 - val_loss: 0.0891\n",
      "Epoch 35/100\n",
      "\u001b[1m2/2\u001b[0m \u001b[32m━━━━━━━━━━━━━━━━━━━━\u001b[0m\u001b[37m\u001b[0m \u001b[1m0s\u001b[0m 43ms/step - loss: 0.0811 - val_loss: 0.0874\n",
      "Epoch 36/100\n",
      "\u001b[1m2/2\u001b[0m \u001b[32m━━━━━━━━━━━━━━━━━━━━\u001b[0m\u001b[37m\u001b[0m \u001b[1m0s\u001b[0m 42ms/step - loss: 0.0804 - val_loss: 0.0888\n",
      "Epoch 37/100\n",
      "\u001b[1m2/2\u001b[0m \u001b[32m━━━━━━━━━━━━━━━━━━━━\u001b[0m\u001b[37m\u001b[0m \u001b[1m0s\u001b[0m 44ms/step - loss: 0.0789 - val_loss: 0.0834\n",
      "Epoch 38/100\n",
      "\u001b[1m2/2\u001b[0m \u001b[32m━━━━━━━━━━━━━━━━━━━━\u001b[0m\u001b[37m\u001b[0m \u001b[1m0s\u001b[0m 43ms/step - loss: 0.0777 - val_loss: 0.0840\n",
      "Epoch 39/100\n",
      "\u001b[1m2/2\u001b[0m \u001b[32m━━━━━━━━━━━━━━━━━━━━\u001b[0m\u001b[37m\u001b[0m \u001b[1m0s\u001b[0m 43ms/step - loss: 0.0746 - val_loss: 0.0799\n",
      "Epoch 40/100\n",
      "\u001b[1m2/2\u001b[0m \u001b[32m━━━━━━━━━━━━━━━━━━━━\u001b[0m\u001b[37m\u001b[0m \u001b[1m0s\u001b[0m 43ms/step - loss: 0.0739 - val_loss: 0.0771\n",
      "Epoch 41/100\n",
      "\u001b[1m2/2\u001b[0m \u001b[32m━━━━━━━━━━━━━━━━━━━━\u001b[0m\u001b[37m\u001b[0m \u001b[1m0s\u001b[0m 42ms/step - loss: 0.0715 - val_loss: 0.0795\n",
      "Epoch 42/100\n",
      "\u001b[1m2/2\u001b[0m \u001b[32m━━━━━━━━━━━━━━━━━━━━\u001b[0m\u001b[37m\u001b[0m \u001b[1m0s\u001b[0m 43ms/step - loss: 0.0736 - val_loss: 0.0753\n",
      "Epoch 43/100\n",
      "\u001b[1m2/2\u001b[0m \u001b[32m━━━━━━━━━━━━━━━━━━━━\u001b[0m\u001b[37m\u001b[0m \u001b[1m0s\u001b[0m 44ms/step - loss: 0.0713 - val_loss: 0.0733\n",
      "Epoch 44/100\n",
      "\u001b[1m2/2\u001b[0m \u001b[32m━━━━━━━━━━━━━━━━━━━━\u001b[0m\u001b[37m\u001b[0m \u001b[1m0s\u001b[0m 44ms/step - loss: 0.0696 - val_loss: 0.0713\n",
      "Epoch 45/100\n",
      "\u001b[1m2/2\u001b[0m \u001b[32m━━━━━━━━━━━━━━━━━━━━\u001b[0m\u001b[37m\u001b[0m \u001b[1m0s\u001b[0m 45ms/step - loss: 0.0642 - val_loss: 0.0714\n",
      "Epoch 46/100\n",
      "\u001b[1m2/2\u001b[0m \u001b[32m━━━━━━━━━━━━━━━━━━━━\u001b[0m\u001b[37m\u001b[0m \u001b[1m0s\u001b[0m 44ms/step - loss: 0.0646 - val_loss: 0.0685\n",
      "Epoch 47/100\n",
      "\u001b[1m2/2\u001b[0m \u001b[32m━━━━━━━━━━━━━━━━━━━━\u001b[0m\u001b[37m\u001b[0m \u001b[1m0s\u001b[0m 44ms/step - loss: 0.0655 - val_loss: 0.0670\n",
      "Epoch 48/100\n",
      "\u001b[1m2/2\u001b[0m \u001b[32m━━━━━━━━━━━━━━━━━━━━\u001b[0m\u001b[37m\u001b[0m \u001b[1m0s\u001b[0m 43ms/step - loss: 0.0613 - val_loss: 0.0667\n",
      "Epoch 49/100\n",
      "\u001b[1m2/2\u001b[0m \u001b[32m━━━━━━━━━━━━━━━━━━━━\u001b[0m\u001b[37m\u001b[0m \u001b[1m0s\u001b[0m 43ms/step - loss: 0.0595 - val_loss: 0.0700\n",
      "Epoch 50/100\n",
      "\u001b[1m2/2\u001b[0m \u001b[32m━━━━━━━━━━━━━━━━━━━━\u001b[0m\u001b[37m\u001b[0m \u001b[1m0s\u001b[0m 54ms/step - loss: 0.0641 - val_loss: 0.0648\n",
      "Epoch 51/100\n",
      "\u001b[1m2/2\u001b[0m \u001b[32m━━━━━━━━━━━━━━━━━━━━\u001b[0m\u001b[37m\u001b[0m \u001b[1m0s\u001b[0m 44ms/step - loss: 0.0580 - val_loss: 0.0623\n",
      "Epoch 52/100\n",
      "\u001b[1m2/2\u001b[0m \u001b[32m━━━━━━━━━━━━━━━━━━━━\u001b[0m\u001b[37m\u001b[0m \u001b[1m0s\u001b[0m 43ms/step - loss: 0.0590 - val_loss: 0.0626\n",
      "Epoch 53/100\n",
      "\u001b[1m2/2\u001b[0m \u001b[32m━━━━━━━━━━━━━━━━━━━━\u001b[0m\u001b[37m\u001b[0m \u001b[1m0s\u001b[0m 42ms/step - loss: 0.0572 - val_loss: 0.0593\n",
      "Epoch 54/100\n",
      "\u001b[1m2/2\u001b[0m \u001b[32m━━━━━━━━━━━━━━━━━━━━\u001b[0m\u001b[37m\u001b[0m \u001b[1m0s\u001b[0m 43ms/step - loss: 0.0560 - val_loss: 0.0606\n",
      "Epoch 55/100\n",
      "\u001b[1m2/2\u001b[0m \u001b[32m━━━━━━━━━━━━━━━━━━━━\u001b[0m\u001b[37m\u001b[0m \u001b[1m0s\u001b[0m 43ms/step - loss: 0.0561 - val_loss: 0.0586\n",
      "Epoch 56/100\n",
      "\u001b[1m2/2\u001b[0m \u001b[32m━━━━━━━━━━━━━━━━━━━━\u001b[0m\u001b[37m\u001b[0m \u001b[1m0s\u001b[0m 42ms/step - loss: 0.0528 - val_loss: 0.0582\n",
      "Epoch 57/100\n",
      "\u001b[1m2/2\u001b[0m \u001b[32m━━━━━━━━━━━━━━━━━━━━\u001b[0m\u001b[37m\u001b[0m \u001b[1m0s\u001b[0m 43ms/step - loss: 0.0539 - val_loss: 0.0550\n",
      "Epoch 58/100\n",
      "\u001b[1m2/2\u001b[0m \u001b[32m━━━━━━━━━━━━━━━━━━━━\u001b[0m\u001b[37m\u001b[0m \u001b[1m0s\u001b[0m 44ms/step - loss: 0.0537 - val_loss: 0.0558\n",
      "Epoch 59/100\n",
      "\u001b[1m2/2\u001b[0m \u001b[32m━━━━━━━━━━━━━━━━━━━━\u001b[0m\u001b[37m\u001b[0m \u001b[1m0s\u001b[0m 44ms/step - loss: 0.0547 - val_loss: 0.0523\n",
      "Epoch 60/100\n",
      "\u001b[1m2/2\u001b[0m \u001b[32m━━━━━━━━━━━━━━━━━━━━\u001b[0m\u001b[37m\u001b[0m \u001b[1m0s\u001b[0m 43ms/step - loss: 0.0513 - val_loss: 0.0532\n",
      "Epoch 61/100\n",
      "\u001b[1m2/2\u001b[0m \u001b[32m━━━━━━━━━━━━━━━━━━━━\u001b[0m\u001b[37m\u001b[0m \u001b[1m0s\u001b[0m 42ms/step - loss: 0.0497 - val_loss: 0.0495\n",
      "Epoch 62/100\n",
      "\u001b[1m2/2\u001b[0m \u001b[32m━━━━━━━━━━━━━━━━━━━━\u001b[0m\u001b[37m\u001b[0m \u001b[1m0s\u001b[0m 43ms/step - loss: 0.0465 - val_loss: 0.0487\n",
      "Epoch 63/100\n",
      "\u001b[1m2/2\u001b[0m \u001b[32m━━━━━━━━━━━━━━━━━━━━\u001b[0m\u001b[37m\u001b[0m \u001b[1m0s\u001b[0m 43ms/step - loss: 0.0455 - val_loss: 0.0514\n",
      "Epoch 64/100\n",
      "\u001b[1m2/2\u001b[0m \u001b[32m━━━━━━━━━━━━━━━━━━━━\u001b[0m\u001b[37m\u001b[0m \u001b[1m0s\u001b[0m 41ms/step - loss: 0.0466 - val_loss: 0.0492\n",
      "Epoch 65/100\n",
      "\u001b[1m2/2\u001b[0m \u001b[32m━━━━━━━━━━━━━━━━━━━━\u001b[0m\u001b[37m\u001b[0m \u001b[1m0s\u001b[0m 42ms/step - loss: 0.0444 - val_loss: 0.0553\n",
      "Epoch 66/100\n",
      "\u001b[1m2/2\u001b[0m \u001b[32m━━━━━━━━━━━━━━━━━━━━\u001b[0m\u001b[37m\u001b[0m \u001b[1m0s\u001b[0m 42ms/step - loss: 0.0500 - val_loss: 0.0471\n",
      "Epoch 67/100\n",
      "\u001b[1m2/2\u001b[0m \u001b[32m━━━━━━━━━━━━━━━━━━━━\u001b[0m\u001b[37m\u001b[0m \u001b[1m0s\u001b[0m 44ms/step - loss: 0.0452 - val_loss: 0.0438\n",
      "Epoch 68/100\n",
      "\u001b[1m2/2\u001b[0m \u001b[32m━━━━━━━━━━━━━━━━━━━━\u001b[0m\u001b[37m\u001b[0m \u001b[1m0s\u001b[0m 42ms/step - loss: 0.0404 - val_loss: 0.0435\n",
      "Epoch 69/100\n",
      "\u001b[1m2/2\u001b[0m \u001b[32m━━━━━━━━━━━━━━━━━━━━\u001b[0m\u001b[37m\u001b[0m \u001b[1m0s\u001b[0m 43ms/step - loss: 0.0411 - val_loss: 0.0410\n",
      "Epoch 70/100\n",
      "\u001b[1m2/2\u001b[0m \u001b[32m━━━━━━━━━━━━━━━━━━━━\u001b[0m\u001b[37m\u001b[0m \u001b[1m0s\u001b[0m 41ms/step - loss: 0.0401 - val_loss: 0.0407\n",
      "Epoch 71/100\n",
      "\u001b[1m2/2\u001b[0m \u001b[32m━━━━━━━━━━━━━━━━━━━━\u001b[0m\u001b[37m\u001b[0m \u001b[1m0s\u001b[0m 42ms/step - loss: 0.0378 - val_loss: 0.0381\n",
      "Epoch 72/100\n",
      "\u001b[1m2/2\u001b[0m \u001b[32m━━━━━━━━━━━━━━━━━━━━\u001b[0m\u001b[37m\u001b[0m \u001b[1m0s\u001b[0m 42ms/step - loss: 0.0360 - val_loss: 0.0372\n",
      "Epoch 73/100\n",
      "\u001b[1m2/2\u001b[0m \u001b[32m━━━━━━━━━━━━━━━━━━━━\u001b[0m\u001b[37m\u001b[0m \u001b[1m0s\u001b[0m 42ms/step - loss: 0.0359 - val_loss: 0.0368\n",
      "Epoch 74/100\n",
      "\u001b[1m2/2\u001b[0m \u001b[32m━━━━━━━━━━━━━━━━━━━━\u001b[0m\u001b[37m\u001b[0m \u001b[1m0s\u001b[0m 43ms/step - loss: 0.0356 - val_loss: 0.0349\n",
      "Epoch 75/100\n",
      "\u001b[1m2/2\u001b[0m \u001b[32m━━━━━━━━━━━━━━━━━━━━\u001b[0m\u001b[37m\u001b[0m \u001b[1m0s\u001b[0m 42ms/step - loss: 0.0347 - val_loss: 0.0345\n",
      "Epoch 76/100\n",
      "\u001b[1m2/2\u001b[0m \u001b[32m━━━━━━━━━━━━━━━━━━━━\u001b[0m\u001b[37m\u001b[0m \u001b[1m0s\u001b[0m 42ms/step - loss: 0.0323 - val_loss: 0.0333\n",
      "Epoch 77/100\n",
      "\u001b[1m2/2\u001b[0m \u001b[32m━━━━━━━━━━━━━━━━━━━━\u001b[0m\u001b[37m\u001b[0m \u001b[1m0s\u001b[0m 42ms/step - loss: 0.0334 - val_loss: 0.0339\n",
      "Epoch 78/100\n",
      "\u001b[1m2/2\u001b[0m \u001b[32m━━━━━━━━━━━━━━━━━━━━\u001b[0m\u001b[37m\u001b[0m \u001b[1m0s\u001b[0m 42ms/step - loss: 0.0329 - val_loss: 0.0313\n",
      "Epoch 79/100\n",
      "\u001b[1m2/2\u001b[0m \u001b[32m━━━━━━━━━━━━━━━━━━━━\u001b[0m\u001b[37m\u001b[0m \u001b[1m0s\u001b[0m 41ms/step - loss: 0.0308 - val_loss: 0.0301\n",
      "Epoch 80/100\n",
      "\u001b[1m2/2\u001b[0m \u001b[32m━━━━━━━━━━━━━━━━━━━━\u001b[0m\u001b[37m\u001b[0m \u001b[1m0s\u001b[0m 42ms/step - loss: 0.0302 - val_loss: 0.0289\n",
      "Epoch 81/100\n",
      "\u001b[1m2/2\u001b[0m \u001b[32m━━━━━━━━━━━━━━━━━━━━\u001b[0m\u001b[37m\u001b[0m \u001b[1m0s\u001b[0m 42ms/step - loss: 0.0286 - val_loss: 0.0279\n",
      "Epoch 82/100\n",
      "\u001b[1m2/2\u001b[0m \u001b[32m━━━━━━━━━━━━━━━━━━━━\u001b[0m\u001b[37m\u001b[0m \u001b[1m0s\u001b[0m 42ms/step - loss: 0.0288 - val_loss: 0.0274\n",
      "Epoch 83/100\n",
      "\u001b[1m2/2\u001b[0m \u001b[32m━━━━━━━━━━━━━━━━━━━━\u001b[0m\u001b[37m\u001b[0m \u001b[1m0s\u001b[0m 56ms/step - loss: 0.0279 - val_loss: 0.0261\n",
      "Epoch 84/100\n",
      "\u001b[1m2/2\u001b[0m \u001b[32m━━━━━━━━━━━━━━━━━━━━\u001b[0m\u001b[37m\u001b[0m \u001b[1m0s\u001b[0m 43ms/step - loss: 0.0263 - val_loss: 0.0258\n",
      "Epoch 85/100\n",
      "\u001b[1m2/2\u001b[0m \u001b[32m━━━━━━━━━━━━━━━━━━━━\u001b[0m\u001b[37m\u001b[0m \u001b[1m0s\u001b[0m 43ms/step - loss: 0.0256 - val_loss: 0.0243\n",
      "Epoch 86/100\n",
      "\u001b[1m2/2\u001b[0m \u001b[32m━━━━━━━━━━━━━━━━━━━━\u001b[0m\u001b[37m\u001b[0m \u001b[1m0s\u001b[0m 41ms/step - loss: 0.0243 - val_loss: 0.0244\n",
      "Epoch 87/100\n",
      "\u001b[1m2/2\u001b[0m \u001b[32m━━━━━━━━━━━━━━━━━━━━\u001b[0m\u001b[37m\u001b[0m \u001b[1m0s\u001b[0m 44ms/step - loss: 0.0247 - val_loss: 0.0228\n",
      "Epoch 88/100\n",
      "\u001b[1m2/2\u001b[0m \u001b[32m━━━━━━━━━━━━━━━━━━━━\u001b[0m\u001b[37m\u001b[0m \u001b[1m0s\u001b[0m 58ms/step - loss: 0.0236 - val_loss: 0.0269\n",
      "Epoch 89/100\n",
      "\u001b[1m2/2\u001b[0m \u001b[32m━━━━━━━━━━━━━━━━━━━━\u001b[0m\u001b[37m\u001b[0m \u001b[1m0s\u001b[0m 42ms/step - loss: 0.0258 - val_loss: 0.0215\n",
      "Epoch 90/100\n",
      "\u001b[1m2/2\u001b[0m \u001b[32m━━━━━━━━━━━━━━━━━━━━\u001b[0m\u001b[37m\u001b[0m \u001b[1m0s\u001b[0m 45ms/step - loss: 0.0217 - val_loss: 0.0219\n",
      "Epoch 91/100\n",
      "\u001b[1m2/2\u001b[0m \u001b[32m━━━━━━━━━━━━━━━━━━━━\u001b[0m\u001b[37m\u001b[0m \u001b[1m0s\u001b[0m 43ms/step - loss: 0.0209 - val_loss: 0.0201\n",
      "Epoch 92/100\n",
      "\u001b[1m2/2\u001b[0m \u001b[32m━━━━━━━━━━━━━━━━━━━━\u001b[0m\u001b[37m\u001b[0m \u001b[1m0s\u001b[0m 43ms/step - loss: 0.0211 - val_loss: 0.0218\n",
      "Epoch 93/100\n",
      "\u001b[1m2/2\u001b[0m \u001b[32m━━━━━━━━━━━━━━━━━━━━\u001b[0m\u001b[37m\u001b[0m \u001b[1m0s\u001b[0m 42ms/step - loss: 0.0213 - val_loss: 0.0196\n",
      "Epoch 94/100\n",
      "\u001b[1m2/2\u001b[0m \u001b[32m━━━━━━━━━━━━━━━━━━━━\u001b[0m\u001b[37m\u001b[0m \u001b[1m0s\u001b[0m 42ms/step - loss: 0.0200 - val_loss: 0.0186\n",
      "Epoch 95/100\n",
      "\u001b[1m2/2\u001b[0m \u001b[32m━━━━━━━━━━━━━━━━━━━━\u001b[0m\u001b[37m\u001b[0m \u001b[1m0s\u001b[0m 44ms/step - loss: 0.0197 - val_loss: 0.0181\n",
      "Epoch 96/100\n",
      "\u001b[1m2/2\u001b[0m \u001b[32m━━━━━━━━━━━━━━━━━━━━\u001b[0m\u001b[37m\u001b[0m \u001b[1m0s\u001b[0m 43ms/step - loss: 0.0183 - val_loss: 0.0170\n",
      "Epoch 97/100\n",
      "\u001b[1m2/2\u001b[0m \u001b[32m━━━━━━━━━━━━━━━━━━━━\u001b[0m\u001b[37m\u001b[0m \u001b[1m0s\u001b[0m 43ms/step - loss: 0.0176 - val_loss: 0.0179\n",
      "Epoch 98/100\n",
      "\u001b[1m2/2\u001b[0m \u001b[32m━━━━━━━━━━━━━━━━━━━━\u001b[0m\u001b[37m\u001b[0m \u001b[1m0s\u001b[0m 43ms/step - loss: 0.0180 - val_loss: 0.0163\n",
      "Epoch 99/100\n",
      "\u001b[1m2/2\u001b[0m \u001b[32m━━━━━━━━━━━━━━━━━━━━\u001b[0m\u001b[37m\u001b[0m \u001b[1m0s\u001b[0m 43ms/step - loss: 0.0173 - val_loss: 0.0166\n",
      "Epoch 100/100\n",
      "\u001b[1m2/2\u001b[0m \u001b[32m━━━━━━━━━━━━━━━━━━━━\u001b[0m\u001b[37m\u001b[0m \u001b[1m0s\u001b[0m 44ms/step - loss: 0.0166 - val_loss: 0.0157\n"
     ]
    }
   ],
   "source": [
    "history = model.fit(\n",
    "    X_train, y_train,\n",
    "    epochs=100,\n",
    "    batch_size=32,\n",
    "    #steps_per_epoch=10,\n",
    "    validation_data=(X_test, y_test),\n",
    "    verbose=1,\n",
    ")"
   ]
  },
  {
   "cell_type": "code",
   "execution_count": 143,
   "id": "3fe2febb-56d5-4949-ac22-bc1db05db7fa",
   "metadata": {},
   "outputs": [
    {
     "data": {
      "text/plain": [
       "<matplotlib.legend.Legend at 0x1d8fef62060>"
      ]
     },
     "execution_count": 143,
     "metadata": {},
     "output_type": "execute_result"
    },
    {
     "data": {
      "image/png": "[encoded data removed]",
      "text/plain": [
       "<Figure size 1000x500 with 1 Axes>"
      ]
     },
     "metadata": {},
     "output_type": "display_data"
    }
   ],
   "source": [
    "plt.figure(figsize=(10,5))\n",
    "plt.plot(history.history['loss'], label='Training Loss')\n",
    "plt.plot(history.history['val_loss'], label='Validation Loss')\n",
    "plt.title('Training and Validation Loss (model)')\n",
    "plt.xlabel('Epochs')\n",
    "plt.ylabel('Loss')\n",
    "#plt.ylim(0,max(max(history.history['loss']),max(history.history['val_loss'])))\n",
    "plt.legend()"
   ]
  },
  {
   "cell_type": "markdown",
   "id": "209971aa-7950-408e-88b8-330cf86277cf",
   "metadata": {},
   "source": [
    "## Check model performance"
   ]
  },
  {
   "cell_type": "code",
   "execution_count": 144,
   "id": "b3752830-d35f-4788-8b1c-cdb2746ef579",
   "metadata": {},
   "outputs": [
    {
     "name": "stdout",
     "output_type": "stream",
     "text": [
      "\u001b[1m32/32\u001b[0m \u001b[32m━━━━━━━━━━━━━━━━━━━━\u001b[0m\u001b[37m\u001b[0m \u001b[1m0s\u001b[0m 2ms/step \n"
     ]
    },
    {
     "data": {
      "text/plain": [
       "array([0.47356874, 0.47728187, 0.48099536, 0.48470813, 0.48842102],\n",
       "      dtype=float32)"
      ]
     },
     "execution_count": 144,
     "metadata": {},
     "output_type": "execute_result"
    }
   ],
   "source": [
    "y_pred = model.predict(X)[:,0]\n",
    "y_pred[:5]"
   ]
  },
  {
   "cell_type": "code",
   "execution_count": 145,
   "id": "9e24e00f-7b95-4257-9521-63ce21fdefd2",
   "metadata": {},
   "outputs": [
    {
     "data": {
      "image/png": "[encoded data removed]",
      "text/plain": [
       "<Figure size 600x600 with 1 Axes>"
      ]
     },
     "metadata": {},
     "output_type": "display_data"
    }
   ],
   "source": [
    "plt.figure(figsize=(6,6))\n",
    "plt.scatter(x, y, c='b', s=5, label=\"True data\")\n",
    "plt.plot( x, y_pred, 'r', label=\"Pred\" )\n",
    "plt.gca().set_aspect('equal')\n",
    "plt.legend()\n",
    "plt.show()"
   ]
  },
  {
   "cell_type": "markdown",
   "id": "d3ae8a29-83bf-4e20-b804-53c924845094",
   "metadata": {},
   "source": [
    "## Extrapolate model beyond training limits"
   ]
  },
  {
   "cell_type": "code",
   "execution_count": 129,
   "id": "44b16779-19dd-4e75-907f-c0282f310ab1",
   "metadata": {},
   "outputs": [
    {
     "name": "stdout",
     "output_type": "stream",
     "text": [
      "\u001b[1m2/2\u001b[0m \u001b[32m━━━━━━━━━━━━━━━━━━━━\u001b[0m\u001b[37m\u001b[0m \u001b[1m0s\u001b[0m 12ms/step\n"
     ]
    },
    {
     "data": {
      "image/png": "[encoded data removed]",
      "text/plain": [
       "<Figure size 600x600 with 1 Axes>"
      ]
     },
     "metadata": {},
     "output_type": "display_data"
    }
   ],
   "source": [
    "x_ext = np.linspace(-4,4,50)\n",
    "X_ext = x_ext[:,np.newaxis]\n",
    "#X_ext = X_ext % 2\n",
    "\n",
    "y_ext = model.predict(X_ext)\n",
    "\n",
    "plt.figure(figsize=(6,6))\n",
    "plt.scatter(x, y, c='b', s=5, label=\"True data\")\n",
    "plt.plot( x_ext, y_ext, 'r', label=\"Extrap.\" )\n",
    "plt.gca().set_aspect('equal')\n",
    "plt.legend()\n",
    "plt.show()"
   ]
  },
  {
   "cell_type": "markdown",
   "id": "7c81b4aa-20dd-4b10-8e12-dd687fe853e5",
   "metadata": {},
   "source": [
    "## Examine model weights"
   ]
  },
  {
   "cell_type": "code",
   "execution_count": 130,
   "id": "55226d7c-e80d-4435-8eeb-f975070acf98",
   "metadata": {},
   "outputs": [
    {
     "name": "stdout",
     "output_type": "stream",
     "text": [
      "Weights of layer 0:\n",
      "\tWeights: [[ 0.43949127 -0.5002143  -0.04990239  0.32240963 -0.35200453 -0.34075522\n",
      "   0.02311293 -0.41170794  0.20603825 -0.13226874  0.36772665 -0.42118317\n",
      "  -0.21868803 -0.5525578   0.12788072 -0.11888787  0.5750755   0.2726258\n",
      "  -0.46291557 -0.34973046  0.21585216 -0.23889011 -0.29498366  0.44713128\n",
      "  -0.36036107 -0.07865456  0.00917773  0.2928531  -0.4449727   0.028616  ]]\n",
      "\tBiasess: [ 0.13936858 -0.8279822  -0.1069588  -0.20649545 -0.17886358 -0.30810994\n",
      "  0.0032464  -0.25837177  0.08147662 -0.04681833 -0.25904766  0.5222016\n",
      "  0.10169715 -0.34965613  0.04419722  0.01338442 -0.77620566 -0.4497995\n",
      " -0.40899274 -0.40772602 -0.3506298   0.26892895 -0.4142152   0.06629919\n",
      " -0.16923612 -0.21230231 -0.0265549  -0.4884126  -0.20974737 -0.08164562]\n",
      "\n",
      "Weights of layer 1:\n",
      "\tWeights: [[ 1.31024122e-02 -2.08721444e-01 -1.80066321e-02  7.29106665e-02\n",
      "  -2.61122864e-02  1.54294372e-01 -8.83335710e-01 -2.50727117e-01\n",
      "   1.50077149e-01 -8.56574625e-02  4.38895494e-01 -1.85752183e-01\n",
      "  -1.15969285e-01  3.88196796e-01  2.27553666e-01  2.42650658e-01\n",
      "  -6.59895986e-02 -9.40684825e-02 -1.05732334e+00  1.97354198e-01]\n",
      " [ 1.40012041e-01 -2.60302007e-01  1.44068360e-01 -2.39526659e-01\n",
      "  -4.69507009e-01  7.37124830e-02  4.28579263e-02 -1.44252971e-01\n",
      "   1.95284635e-01 -1.14442268e-02 -2.19918489e-01  4.87756610e-01\n",
      "  -2.33373836e-01 -9.48088169e-02  9.58769172e-02  4.32184637e-01\n",
      "   3.32910627e-01 -6.51234746e-01 -8.30628097e-01 -4.73669142e-01]\n",
      " [-1.14877813e-01  3.06987822e-01 -2.31142148e-01 -3.28018039e-01\n",
      "  -3.34068865e-01 -1.60946578e-01  1.04548074e-01  3.57060060e-02\n",
      "   2.95078933e-01  1.71313733e-01 -2.98037499e-01 -1.60911024e-01\n",
      "   5.76257855e-02 -3.40920508e-01 -4.37967591e-02  2.39529505e-01\n",
      "  -2.19929725e-01  7.06448182e-02  7.59000257e-02 -7.82619476e-01]\n",
      " [ 7.73835182e-02 -2.03452900e-01  2.48622805e-01  2.16560602e-01\n",
      "  -3.76197010e-01 -4.73028183e-01 -3.78430575e-01 -2.98276186e-01\n",
      "   1.80912539e-01  4.09777388e-02  3.21632773e-01 -2.92143553e-01\n",
      "  -1.95231110e-01  1.82630807e-01  1.68613344e-02  1.60073608e-01\n",
      "  -2.68418640e-01 -4.22472686e-01  8.40103105e-02 -1.89689621e-01]\n",
      " [ 7.60396570e-02 -2.63180196e-01 -3.37084532e-01 -1.19113505e-01\n",
      "   1.76143274e-01  3.33938748e-01 -3.65793139e-01  1.83925815e-02\n",
      "   2.74039000e-01  1.49325222e-01  3.36909533e-01  1.19965971e-01\n",
      "  -3.56092900e-01 -1.47079438e-01  7.27479532e-02  4.02255952e-02\n",
      "   3.77453804e-01 -3.38457385e-03  1.05031267e-01 -4.63060409e-01]\n",
      " [ 1.59874350e-01  2.01579511e-01 -5.06249964e-02  2.96698213e-01\n",
      "  -1.34243131e-01  5.01047075e-03 -3.03529799e-01  2.21792564e-01\n",
      "   3.62803340e-01 -3.76511127e-01 -2.82923162e-01 -2.10003659e-01\n",
      "  -1.16498262e-01 -2.15522528e-01  2.26527408e-01  1.43230334e-01\n",
      "   2.65055653e-02 -3.75942528e-01 -2.35888705e-01 -8.93751860e-01]\n",
      " [ 6.38284385e-02 -1.29127532e-01 -6.57597333e-02  3.00299168e-01\n",
      "   6.21894039e-02 -1.04919272e-02  9.50671360e-02  2.89613008e-03\n",
      "   1.26067147e-01 -2.63228714e-01  1.11673020e-01 -3.95944230e-02\n",
      "   4.54249606e-03 -1.11932434e-01  2.88558453e-01  2.70428628e-01\n",
      "  -1.80508107e-01  1.47793800e-01 -3.65510494e-01  8.92013311e-02]\n",
      " [ 2.31563598e-01  3.27991247e-02 -2.99696237e-01 -3.27879548e-01\n",
      "  -3.95070046e-01  2.69559532e-01 -6.99376583e-01  1.82805404e-01\n",
      "   1.37714773e-01 -2.25548208e-01  2.99152553e-01  9.39170420e-02\n",
      "  -2.65276372e-01  2.44097650e-01 -3.07995319e-01  3.80067766e-01\n",
      "  -5.75007163e-02 -1.28366739e-01 -5.28504491e-01 -1.38595641e-01]\n",
      " [-3.20886016e-01 -2.98009813e-01 -1.80906266e-01 -1.36847526e-01\n",
      "  -9.52727646e-02  3.07450980e-01 -5.83843529e-01 -2.87719935e-01\n",
      "   3.71225357e-01 -1.12967551e-01  1.23091862e-01 -3.71674359e-01\n",
      "   2.33735815e-01  5.11589423e-02 -5.46306856e-02 -2.61878133e-01\n",
      "  -2.27819644e-02 -1.12494983e-01 -6.09602869e-01  1.27861232e-01]\n",
      " [ 3.21983844e-02  6.60911500e-02  1.24918401e-01  2.33242095e-01\n",
      "   3.46399508e-02  2.38069132e-01 -3.12521197e-02 -2.59332567e-01\n",
      "  -3.29797983e-01 -1.22206859e-01 -3.24016005e-01  1.01619557e-01\n",
      "  -1.77056581e-01 -6.20217621e-02 -7.36381486e-02  1.92284852e-01\n",
      "   2.97201872e-01  1.34022593e-01 -1.68291498e-02 -6.75220191e-01]\n",
      " [-3.72801721e-02 -2.31579468e-01  3.57017189e-01 -3.07052583e-01\n",
      "  -3.34697396e-01 -4.03241873e-01 -5.83927214e-01 -6.40586019e-02\n",
      "   1.26440674e-01  1.26577720e-01  3.54940861e-01 -5.22145152e-01\n",
      "   1.30466253e-01 -2.62169391e-02  2.92449415e-01  1.22023851e-01\n",
      "   1.43769383e-01 -1.26693845e-02 -1.14072002e-02 -1.69540063e-01]\n",
      " [-4.20645535e-01 -2.11336255e-01 -8.76047611e-01 -3.23129505e-01\n",
      "   4.78597611e-01 -8.21689442e-02  2.50541300e-01 -1.68621734e-01\n",
      "  -2.08584905e-01 -1.67393178e-01 -1.26105142e+00 -2.31851548e-01\n",
      "   8.79298672e-02 -9.61548686e-01 -8.83454755e-02  7.36118779e-02\n",
      "   1.39942929e-01  4.85929281e-01  3.55317861e-01 -3.78377020e-01]\n",
      " [-3.94877106e-01  6.58712983e-02  1.17172539e-01  1.86823606e-01\n",
      "  -2.75169253e-01 -1.19871110e-01  1.89869046e-01  1.62574723e-01\n",
      "   2.63719112e-01 -1.74167454e-01  1.21854653e-03 -1.01687513e-01\n",
      "   1.59072012e-01  2.78611183e-02 -4.33580205e-02  2.20325500e-01\n",
      "  -2.61441708e-01  1.77994192e-01  2.16239214e-01 -9.46916163e-01]\n",
      " [-2.61458606e-01 -1.19918928e-01  3.10733378e-01  2.61253119e-02\n",
      "  -6.09239340e-01  1.24885768e-01 -5.82822680e-01 -8.74275938e-02\n",
      "   6.52138442e-02 -7.05249906e-02 -7.22002089e-02  2.80908912e-01\n",
      "   6.93843663e-02  1.83996975e-01 -1.54672727e-01  5.50491154e-01\n",
      "  -1.28704056e-01 -2.05078647e-01 -3.08878392e-01 -1.23908632e-02]\n",
      " [ 4.18900549e-02 -2.88541466e-01  2.60371298e-01 -1.18411824e-01\n",
      "  -1.81672480e-02 -6.21213466e-02 -5.99974990e-01 -2.17597038e-01\n",
      "  -9.68678147e-02 -1.77791119e-01  2.00701445e-01 -9.16245431e-02\n",
      "  -3.83536816e-02  4.21990789e-02 -2.02014521e-01  1.74670517e-02\n",
      "  -3.07285756e-01  1.91845223e-01 -6.39116645e-01 -9.94491428e-02]\n",
      " [-3.51864219e-01 -5.32114506e-03 -2.19778419e-01  1.01372063e-01\n",
      "  -2.54622400e-01  2.61535291e-02  5.79818971e-02 -4.16530699e-01\n",
      "   2.96819806e-02  1.81746528e-01 -3.36416066e-01  4.01887417e-01\n",
      "   2.69533843e-02  3.15171719e-01 -3.67824137e-01  1.26263559e-01\n",
      "  -2.18556687e-01  6.27096146e-02  1.63725764e-01 -6.24099076e-01]\n",
      " [-1.55865833e-01 -4.76361215e-02  2.81308949e-01 -3.00430477e-01\n",
      "  -7.94212043e-01 -7.42192090e-01 -5.40525198e-01  3.20263803e-01\n",
      "  -2.94635922e-01  1.58932418e-01 -3.15408945e-01 -1.58847108e-01\n",
      "  -3.08143616e-01  5.18637121e-01  6.58779502e-01 -2.30238140e-01\n",
      "  -3.74853730e-01 -3.59248996e-01 -4.32339430e-01 -7.89994538e-01]\n",
      " [-1.53563917e-02 -1.89199001e-01 -2.30316132e-01 -7.04487264e-02\n",
      "  -5.16423732e-02 -6.76445007e-01 -1.80006728e-01  1.59705698e-01\n",
      "   9.18090567e-02 -3.03217083e-01  9.56532210e-02  1.14991918e-01\n",
      "  -8.42330381e-02  2.45577231e-01  6.41460240e-01 -3.90284598e-01\n",
      "  -2.06634313e-01  7.60623664e-02 -2.71749020e-01 -7.81387448e-01]\n",
      " [ 7.34625310e-02 -3.05885494e-01  2.45696008e-01 -3.02842438e-01\n",
      "  -8.25459599e-01  5.98016493e-02 -4.77350056e-01 -2.43305191e-02\n",
      "   1.67345345e-01  2.30519995e-01  1.63738072e-01  3.10681313e-01\n",
      "   2.07325041e-01 -6.35008812e-02 -9.51238908e-03  5.55814683e-01\n",
      "  -1.62731662e-01 -3.54808837e-01 -2.81057239e-01 -6.92303255e-02]\n",
      " [-1.10620014e-01  2.09597468e-01 -2.78108448e-01  2.48059928e-01\n",
      "  -8.44861925e-01 -5.19329384e-02 -2.73093283e-01 -2.00747158e-02\n",
      "   3.61816585e-01  3.62665579e-02 -1.40238613e-01  6.22054264e-02\n",
      "  -5.58486208e-02 -2.64138758e-01 -1.52531445e-01  5.48478484e-01\n",
      "  -2.16952428e-01 -5.13549626e-01 -2.72786826e-01 -1.17799819e-01]\n",
      " [ 1.95539236e-01 -3.23422879e-01 -9.09028202e-02 -4.93696034e-02\n",
      "  -3.17926645e-01 -3.17898840e-01 -1.86059047e-02 -1.89255327e-01\n",
      "  -3.15205008e-02 -3.86218786e-01 -2.34653905e-01 -4.87324558e-02\n",
      "  -2.82744646e-01 -1.83482781e-01  5.79565056e-02 -2.11061969e-01\n",
      "  -2.69658744e-01 -3.07969689e-01 -1.91557497e-01 -3.27973515e-02]\n",
      " [ 2.13789597e-01  2.35385060e-01 -4.74611312e-01  2.84318626e-01\n",
      "   3.54588002e-01 -4.60908189e-02  1.86189622e-01 -4.07769829e-01\n",
      "  -2.36339852e-01 -2.66906410e-01 -7.13828027e-01 -3.16307098e-01\n",
      "   1.17607772e-01 -1.68472454e-02  6.83980957e-02 -3.15551460e-01\n",
      "  -1.46715164e-01  3.10723275e-01  2.16585726e-01 -3.53810668e-01]\n",
      " [-7.70200491e-02 -2.36478657e-01 -3.04482371e-01 -1.95604891e-01\n",
      "  -6.58485770e-01  2.45631903e-01 -5.92341304e-01  1.36610299e-01\n",
      "   5.06788269e-02 -3.16123553e-02  3.15354943e-01  7.58514404e-02\n",
      "   1.36693954e-01 -6.27916753e-02  2.08221778e-01 -4.54947725e-03\n",
      "   2.25645259e-01 -2.54610538e-01 -5.11226058e-01  2.60051727e-01]\n",
      " [-1.22418448e-01  2.81561792e-01  7.30833635e-02  4.43384349e-02\n",
      "  -2.44824812e-01  1.57969147e-01 -1.17845869e+00 -3.01011592e-01\n",
      "  -2.36344323e-01  1.01944230e-01  2.88709521e-01 -5.77409506e-01\n",
      "   5.86428978e-02 -1.66446138e-02  3.24634433e-01  2.10957155e-01\n",
      "  -6.92863584e-01 -4.10169482e-01 -7.43977666e-01 -8.69141147e-02]\n",
      " [-3.42998505e-01 -1.64538592e-01  3.38977993e-01 -2.88108945e-01\n",
      "  -2.80139238e-01 -2.24361777e-01 -4.67273742e-01 -3.51482034e-01\n",
      "  -4.37751152e-02  4.30141762e-02  2.40694970e-01 -1.34081900e-01\n",
      "  -4.41067934e-01 -2.44532153e-01 -3.28000605e-01  3.90513420e-01\n",
      "  -1.89299390e-01  2.59543601e-02 -2.00589254e-01 -1.06083639e-01]\n",
      " [-7.52003863e-02 -3.41342479e-01  1.27491549e-01  2.83578753e-01\n",
      "  -4.23399121e-01 -1.87066361e-01  1.83039770e-01 -2.99805582e-01\n",
      "   5.19017056e-02 -2.05696851e-01  2.18451396e-01  1.94511294e-01\n",
      "  -3.68378520e-01  9.81930047e-02  1.17934875e-01 -9.30978283e-02\n",
      "  -2.38362085e-02  2.36595541e-01 -1.93357274e-01 -1.48784935e-01]\n",
      " [-8.35240483e-02 -1.63851202e-01 -1.53457532e-02  2.07424343e-01\n",
      "   1.81877494e-01 -1.52339831e-01 -1.52928293e-01 -2.99756557e-01\n",
      "  -2.98705250e-02  2.97772646e-01  1.68052763e-01  2.01306462e-01\n",
      "  -5.51518910e-02 -1.77259311e-01 -1.29071683e-01 -2.49987632e-01\n",
      "  -2.82537937e-02 -3.76751393e-01  3.32119524e-01  1.37919992e-01]\n",
      " [-1.52364403e-01 -1.60765111e-01 -1.57974377e-01 -5.11140823e-02\n",
      "  -7.91692972e-01 -1.05270624e+00 -2.32739538e-01  6.49793148e-02\n",
      "  -7.98452422e-02  6.10771179e-02 -3.78280789e-01 -1.76524237e-01\n",
      "   2.12672442e-01  2.46473074e-01  5.09522796e-01 -1.14916384e-01\n",
      "   2.13033676e-01 -1.25037938e-01 -3.13789845e-01 -9.75667119e-01]\n",
      " [ 5.90445772e-02  2.12386131e-01  1.05309069e-01 -2.20361754e-01\n",
      "  -6.35366082e-01  2.14740410e-01 -6.66050434e-01 -8.60931054e-02\n",
      "   3.88821334e-01  1.62240937e-01  5.17911017e-02 -4.17516716e-02\n",
      "   2.35844329e-02 -2.75222659e-01 -1.54369831e-01 -8.42975602e-02\n",
      "  -1.69088632e-01 -3.53880733e-01 -3.17741543e-01  2.04614550e-02]\n",
      " [-1.02629766e-01 -1.61656931e-01 -7.38731027e-02  2.70218492e-01\n",
      "  -2.49469072e-01 -2.22891152e-01 -3.33268911e-01  6.23865984e-02\n",
      "  -3.61774862e-01 -4.59541800e-03  1.69842839e-01  2.38044143e-01\n",
      "  -8.65734220e-02 -6.33113980e-02 -1.48233190e-01  1.54359519e-01\n",
      "  -4.57857549e-02  2.57876571e-02 -1.73929110e-01  1.84980631e-02]]\n",
      "\tBiasess: [-0.08851755  0.         -0.03018534  0.          0.45116886  0.35350707\n",
      "  0.4143783  -0.09421706 -0.09490636 -0.07389854  0.13046357 -0.13295515\n",
      " -0.15049897 -0.09412384 -0.6635217  -0.01930689  0.06316811  0.3476147\n",
      "  0.5081451   0.62511224]\n",
      "\n",
      "Weights of layer 2:\n",
      "\tWeights: [[ 6.45812154e-02  2.74364710e-01  3.51888806e-01 -7.24548753e-03\n",
      "  -1.51997358e-01 -1.76303789e-01  2.77628332e-01 -9.84390825e-02\n",
      "   1.88842550e-01  9.13538933e-02]\n",
      " [-1.53564721e-01  1.55417323e-01  2.57873714e-01  9.58976150e-03\n",
      "   4.11031246e-02  7.98565149e-02 -2.78992951e-01  3.00407648e-01\n",
      "  -3.31891716e-01 -2.42480308e-01]\n",
      " [ 1.21556222e-01 -1.68622836e-01 -8.36789608e-02 -4.86842364e-01\n",
      "   1.56572297e-01 -4.32614744e-01 -3.68191212e-01  2.20891804e-01\n",
      "   3.17470014e-01  4.52021599e-01]\n",
      " [-3.66056710e-01  2.71818459e-01  2.31116354e-01 -2.47673541e-01\n",
      "   3.24676871e-01  2.56946206e-01 -3.66732597e-01  1.58584714e-01\n",
      "  -6.16469085e-02 -3.15510094e-01]\n",
      " [ 4.36350197e-01 -4.86315459e-01  8.62899125e-01  1.76969439e-01\n",
      "  -6.82713509e-01 -1.13857742e-02  1.85160115e-01 -5.41469097e-01\n",
      "   2.49966472e-01  8.17369759e-01]\n",
      " [ 2.38511950e-01  1.13518707e-01 -2.08678730e-02  4.32559460e-01\n",
      "   2.69164383e-01  2.08139822e-01 -6.48141205e-01  3.85989249e-01\n",
      "   2.40394041e-01 -3.21307689e-01]\n",
      " [ 8.19893539e-01 -3.25912356e-01  6.38761938e-01 -3.35282058e-01\n",
      "  -3.51980984e-01 -7.48097777e-01  2.94711322e-01 -6.61321223e-01\n",
      "  -6.29776657e-01 -1.64206877e-01]\n",
      " [ 9.58137512e-02  2.10141063e-01 -1.04870498e-01 -2.31357679e-01\n",
      "   2.18241453e-01 -2.36485824e-01  3.38604480e-01 -1.55970097e-01\n",
      "  -2.70424634e-01 -2.66579390e-01]\n",
      " [-1.89886808e-01 -1.94649830e-01 -1.02551520e-01 -4.38312367e-02\n",
      "   1.72636837e-01  3.38132158e-02  3.02095890e-01  1.94585308e-01\n",
      "   4.89003062e-01  3.74635942e-02]\n",
      " [-1.13049388e-01 -8.74271840e-02 -3.19612980e-01  1.35574818e-01\n",
      "  -1.91309392e-01 -1.73205882e-01  3.00872803e-01  2.88611352e-01\n",
      "  -3.67181510e-01  4.80703041e-02]\n",
      " [ 4.14221078e-01 -7.21320361e-02 -4.76940572e-01 -6.50339305e-01\n",
      "   2.15460896e-01 -5.10361254e-01 -1.11645162e-01  3.90823901e-01\n",
      "  -2.20645994e-01  2.22658411e-01]\n",
      " [ 3.10816616e-01 -1.35116428e-01  1.66883543e-01  7.97300041e-02\n",
      "   1.23164274e-01 -3.61780554e-01 -1.51927829e-01  6.60698295e-01\n",
      "  -1.50449157e-01 -3.04274738e-01]\n",
      " [ 1.38757586e-01 -2.69269556e-01  3.14373523e-01 -6.82685375e-02\n",
      "  -1.43215746e-01  5.51158965e-01 -3.59642386e-01  2.54005313e-01\n",
      "  -8.53076503e-02  1.16556555e-01]\n",
      " [ 2.46976420e-01 -1.61529798e-02 -4.85001832e-01 -6.10647857e-01\n",
      "   5.23921438e-02 -4.06534731e-01 -3.79087657e-01 -8.12013075e-02\n",
      "   9.07685161e-02  4.18837190e-01]\n",
      " [-6.22550130e-01 -3.83493841e-01  1.58070674e-04 -3.08510274e-01\n",
      "  -2.39819363e-01 -2.60433733e-01 -4.31332320e-01 -1.76086560e-01\n",
      "  -3.87575515e-02  9.91222635e-02]\n",
      " [-3.69607002e-01  1.06587678e-01  7.47848228e-02  2.09240526e-01\n",
      "   5.20346880e-01 -6.65699765e-02  2.08357245e-01  3.43018830e-01\n",
      "   4.56502616e-01 -9.09050107e-02]\n",
      " [ 3.62434089e-01 -2.34555587e-01 -3.01630437e-01 -3.25277209e-01\n",
      "  -1.70270521e-02  2.65514910e-01 -3.47947091e-01 -4.47022729e-02\n",
      "  -2.10263208e-01 -6.43559396e-01]\n",
      " [ 4.48734537e-02 -1.04131293e+00  4.26433325e-01  4.55995262e-01\n",
      "  -5.71329705e-02  9.22257081e-02 -1.16757102e-01 -3.86715651e-01\n",
      "   5.89132905e-02 -5.10879636e-01]\n",
      " [ 3.17814738e-01 -5.69211543e-01 -1.33071721e-01 -2.80558556e-01\n",
      "  -1.03223121e+00  7.83921555e-02 -3.00673991e-01 -1.46450937e+00\n",
      "  -1.76877871e-01 -1.30701274e-01]\n",
      " [-9.39447805e-03  5.29543996e-01 -8.24070573e-01  5.58792889e-01\n",
      "   5.41687608e-01  3.40946406e-01 -2.54650384e-01  1.55986249e-01\n",
      "  -3.78091633e-01 -5.21300614e-01]]\n",
      "\tBiasess: [-0.00570384 -0.02373984 -0.2246614   0.37927732 -0.08758287  0.44708222\n",
      " -0.13843521  0.06165259  0.1841436  -0.20892884]\n",
      "\n",
      "Weights of layer 3:\n",
      "\tWeights: [[-0.54106253]\n",
      " [-0.13184388]\n",
      " [-0.67519844]\n",
      " [ 0.6321576 ]\n",
      " [-0.66416574]\n",
      " [ 0.3333213 ]\n",
      " [-0.18480888]\n",
      " [-0.5061456 ]\n",
      " [ 0.19971214]\n",
      " [ 0.6577616 ]]\n",
      "\tBiasess: [0.13878676]\n",
      "\n"
     ]
    }
   ],
   "source": [
    "for i, layer in enumerate(model.layers):\n",
    "    print(f\"Weights of layer {i}:\")\n",
    "    print(f'\\tWeights: {layer.get_weights()[0]}')\n",
    "    print(f'\\tBiasess: {layer.get_weights()[1]}')\n",
    "    print()\n",
    "# end"
   ]
  },
  {
   "cell_type": "code",
   "execution_count": null,
   "id": "75437a67-1817-46bb-864e-153b4ad5023f",
   "metadata": {},
   "outputs": [],
   "source": []
  }
 ],
 "metadata": {
  "kernelspec": {
   "display_name": "Python 3 (ipykernel)",
   "language": "python",
   "name": "python3"
  },
  "language_info": {
   "codemirror_mode": {
    "name": "ipython",
    "version": 3
   },
   "file_extension": ".py",
   "mimetype": "text/x-python",
   "name": "python",
   "nbconvert_exporter": "python",
   "pygments_lexer": "ipython3",
   "version": "3.12.3"
  }
 },
 "nbformat": 4,
 "nbformat_minor": 5
}
