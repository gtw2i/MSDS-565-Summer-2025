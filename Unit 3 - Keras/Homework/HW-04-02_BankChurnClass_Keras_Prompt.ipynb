{
 "cells": [
  {
   "cell_type": "markdown",
   "id": "12f5672b-69c3-4acb-927f-c23992f267ac",
   "metadata": {},
   "source": [
    "# HW-04-02: Bank Churn Classification w/ Keras\n",
    "\n",
    "In this homework, you will recreate the bank churn classification assignment using Keras instead of sklearn. You will create several different Keras models and compare their performance and explain why you think there was a performance difference between them.\n",
    "\n",
    "To simplify RAM issues, you can use only numerical features.\n",
    "\n",
    "## Directions\n",
    "- Write code for each section in new cells directly beneath the relevant markdown sections\n",
    "- When saving your notebook, please name it according to the Following format (modify appropriately for each assignment):\n",
    "    - Format: HW-01-01_CarSales_\\<LastName\\>\\<FirstInitial\\>.ipynb\n",
    "    - Example: HW-01-01_CarSales_WestG.ipynb"
   ]
  },
  {
   "cell_type": "markdown",
   "id": "4b5a0ac6-605e-4298-9276-412497a8116e",
   "metadata": {},
   "source": [
    "# Part 1: Pre-processing"
   ]
  },
  {
   "cell_type": "markdown",
   "id": "8a2c95e9-dbd9-4ae3-87ad-016b8aa7ba3f",
   "metadata": {},
   "source": [
    "## 1.1 Read data and keep ONLY NUMERICAL FEATURES"
   ]
  },
  {
   "cell_type": "markdown",
   "id": "fbf083ab-ec78-4e0d-934e-8e6356d90322",
   "metadata": {},
   "source": [
    "## 1.2 Drop/fill nans\n",
    "\n",
    "Perform the following:\n",
    "- Drop columns with mostly or all nans\n",
    "- Drop rows with nans in the price column\n",
    "- Fill nans intelligently (can you do something like I showed with filling based on the neighborhood median?)"
   ]
  },
  {
   "cell_type": "markdown",
   "id": "9f4dc897-58c3-4658-acf3-492959f48cdf",
   "metadata": {},
   "source": [
    "## 1.3 Filter outliers\n",
    "\n",
    "Filter outliers from the following columns (and any more that you would like): year, price, mileage\n",
    "\n",
    "Keep an eye on how many rows that you drop. You don't want to drop too much data. There isn't a clear answer to how much since it would be problem dependent. Write a short markdown explaining why you chose the filtering strategy that you did."
   ]
  },
  {
   "cell_type": "markdown",
   "id": "732e6df4-2a13-4578-a24c-891f52296d1c",
   "metadata": {},
   "source": [
    "## 1.4 Scaling\n",
    "\n",
    "Perform standard scaling on all remaining features (including dummies)\n",
    "\n",
    "**DON'T** scale the sale price."
   ]
  },
  {
   "cell_type": "markdown",
   "id": "f3a1860a-0e8c-4454-856c-72a15d459f9b",
   "metadata": {},
   "source": [
    "# Part 2: Modeling\n",
    "\n",
    "Create **5 different Keras models** to solve the problem. The different models should vary the following attributes:\n",
    "\n",
    "- Number of layers\n",
    "- Number of neurons per layer\n",
    "- Activation functions\n",
    "- Learning rate\n",
    "- Batch size\n",
    "- Number of epochs\n",
    "- Dropout rate"
   ]
  },
  {
   "cell_type": "markdown",
   "id": "7e045e53-8ac2-4bf4-b48f-1dbc5fe034f8",
   "metadata": {},
   "source": [
    "## Model 1\n",
    "\n",
    "- Create and compile the model\n",
    "- Train the model\n",
    "- Plot the loss history and display some metrics"
   ]
  },
  {
   "cell_type": "markdown",
   "id": "a71ba840-5759-4a95-902c-0341ed5de56b",
   "metadata": {},
   "source": [
    "## Model 3\n",
    "\n",
    "- Create and compile the model\n",
    "- Train the model\n",
    "- Plot the loss history and display some metrics"
   ]
  },
  {
   "cell_type": "markdown",
   "id": "2f7473de-00bd-4566-ae6a-2566d99f7a09",
   "metadata": {},
   "source": [
    "## Model 3\n",
    "\n",
    "- Create and compile the model\n",
    "- Train the model\n",
    "- Plot the loss history and display some metrics"
   ]
  },
  {
   "cell_type": "markdown",
   "id": "e5a76af3-2629-48a1-92e3-a9d435112c60",
   "metadata": {},
   "source": [
    "## Model 4\n",
    "\n",
    "- Create and compile the model\n",
    "- Train the model\n",
    "- Plot the loss history and display some metrics"
   ]
  },
  {
   "cell_type": "markdown",
   "id": "6a44376d-e247-4d2b-8d27-c30ac28a8bf3",
   "metadata": {},
   "source": [
    "## Model 5\n",
    "\n",
    "- Create and compile the model\n",
    "- Train the model\n",
    "- Plot the loss history and display some metrics"
   ]
  },
  {
   "cell_type": "markdown",
   "id": "de490ec4-52b5-4985-a984-17c242dc74b8",
   "metadata": {},
   "source": [
    "# Part 3: Discussion\n",
    "\n",
    "Create a markdown cell below to discuss the performance of your models. Which ones performed best/worst? Explain why you think the models performed the way they did (maybe due to the model not being complex enough, too small of a batch size, not training long enough, the wrong activation function, etc.)."
   ]
  }
 ],
 "metadata": {
  "kernelspec": {
   "display_name": "Python 3 (ipykernel)",
   "language": "python",
   "name": "python3"
  },
  "language_info": {
   "codemirror_mode": {
    "name": "ipython",
    "version": 3
   },
   "file_extension": ".py",
   "mimetype": "text/x-python",
   "name": "python",
   "nbconvert_exporter": "python",
   "pygments_lexer": "ipython3",
   "version": "3.9.7"
  }
 },
 "nbformat": 4,
 "nbformat_minor": 5
}
